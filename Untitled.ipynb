{
 "cells": [
  {
   "cell_type": "code",
   "execution_count": null,
   "metadata": {
    "collapsed": false
   },
   "outputs": [],
   "source": [
    "\n",
    "\n",
    "\n",
    "\n",
    "mainUrl = \"http://www.sec.gov/Archives/edgar/data/\"\n",
    "\n",
    "CIK = input(\"Enter CIK (eg :0000051143)\")\n",
    "DAN = input(\"Enter document accession number -DAN (eg :000005114313000007 )\")\n",
    "\n",
    "\n",
    "CIK = CIK.strip().strip(\"0\")\n",
    "DAN = DAN.strip()\n",
    "partCIK = DAN[0:10]+\"-\"\n",
    "partDAN = DAN[10:12]+\"-\"\n",
    "lastPart = DAN[12:18]+\"-index.html\"\n",
    "\n",
    "completeURL = mainUrl+CIK+\"/\"+DAN+\"/\"+partCIK+partDAN+lastPart\n",
    "#print(completeURL)"
   ]
  }
 ],
 "metadata": {
  "anaconda-cloud": {},
  "kernelspec": {
   "display_name": "Python [conda root]",
   "language": "python",
   "name": "conda-root-py"
  },
  "language_info": {
   "codemirror_mode": {
    "name": "ipython",
    "version": 3
   },
   "file_extension": ".py",
   "mimetype": "text/x-python",
   "name": "python",
   "nbconvert_exporter": "python",
   "pygments_lexer": "ipython3",
   "version": "3.5.2"
  }
 },
 "nbformat": 4,
 "nbformat_minor": 1
}
