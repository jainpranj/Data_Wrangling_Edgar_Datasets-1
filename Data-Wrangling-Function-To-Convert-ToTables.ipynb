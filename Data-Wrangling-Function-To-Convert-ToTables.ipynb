{
 "cells": [
  {
   "cell_type": "code",
   "execution_count": 4,
   "metadata": {
    "collapsed": false
   },
   "outputs": [
    {
     "ename": "ImportError",
     "evalue": "No module named 'ipynb'",
     "output_type": "error",
     "traceback": [
      "\u001b[0;31m---------------------------------------------------------------------------\u001b[0m",
      "\u001b[0;31mImportError\u001b[0m                               Traceback (most recent call last)",
      "\u001b[0;32m<ipython-input-4-0a9eceb11088>\u001b[0m in \u001b[0;36m<module>\u001b[0;34m()\u001b[0m\n\u001b[1;32m      7\u001b[0m \u001b[1;32mimport\u001b[0m \u001b[0mre\u001b[0m\u001b[1;33m\u001b[0m\u001b[0m\n\u001b[1;32m      8\u001b[0m \u001b[1;33m\u001b[0m\u001b[0m\n\u001b[0;32m----> 9\u001b[0;31m \u001b[1;32mimport\u001b[0m \u001b[0mipynb\u001b[0m\u001b[1;33m.\u001b[0m\u001b[0mfs\u001b[0m\u001b[1;33m.\u001b[0m\u001b[0mdefs\u001b[0m\u001b[1;33m.\u001b[0m\u001b[0mget_CIK_and_DAN_to_create_url\u001b[0m \u001b[1;32mas\u001b[0m \u001b[0murlbook\u001b[0m\u001b[1;33m\u001b[0m\u001b[0m\n\u001b[0m\u001b[1;32m     10\u001b[0m \u001b[1;33m\u001b[0m\u001b[0m\n\u001b[1;32m     11\u001b[0m \u001b[1;33m\u001b[0m\u001b[0m\n",
      "\u001b[0;31mImportError\u001b[0m: No module named 'ipynb'"
     ]
    }
   ],
   "source": [
    "from bs4 import BeautifulSoup\n",
    "from collections import namedtuple\n",
    "import urllib.request as ur\n",
    "from collections import namedtuple\n",
    "import pprint\n",
    "import csv\n",
    "import re"
   ]
  },
  {
   "cell_type": "code",
   "execution_count": 1,
   "metadata": {
    "collapsed": false
   },
   "outputs": [
    {
     "ename": "NameError",
     "evalue": "name 'namedtuple' is not defined",
     "output_type": "error",
     "traceback": [
      "\u001b[0;31m---------------------------------------------------------------------------\u001b[0m",
      "\u001b[0;31mNameError\u001b[0m                                 Traceback (most recent call last)",
      "\u001b[0;32m<ipython-input-1-9c0b1e997e6e>\u001b[0m in \u001b[0;36m<module>\u001b[0;34m()\u001b[0m\n\u001b[1;32m     68\u001b[0m \u001b[1;33m\u001b[0m\u001b[0m\n\u001b[1;32m     69\u001b[0m \u001b[1;33m\u001b[0m\u001b[0m\n\u001b[0;32m---> 70\u001b[0;31m \u001b[0mMetadata\u001b[0m \u001b[1;33m=\u001b[0m \u001b[0mnamedtuple\u001b[0m\u001b[1;33m(\u001b[0m\u001b[1;34m\"Metadata\"\u001b[0m\u001b[1;33m,\u001b[0m \u001b[1;34m\"num_cols num_entries\"\u001b[0m\u001b[1;33m)\u001b[0m\u001b[1;33m\u001b[0m\u001b[0m\n\u001b[0m\u001b[1;32m     71\u001b[0m \u001b[1;33m\u001b[0m\u001b[0m\n\u001b[1;32m     72\u001b[0m \u001b[1;32mclass\u001b[0m \u001b[0mTable\u001b[0m\u001b[1;33m:\u001b[0m\u001b[1;33m\u001b[0m\u001b[0m\n",
      "\u001b[0;31mNameError\u001b[0m: name 'namedtuple' is not defined"
     ]
    }
   ],
   "source": [
    "class Page:\n",
    "\n",
    "    def __init__(self, url):\n",
    "        \"\"\"\n",
    "        Retrieves and stores the urllib.urlopen object for a given url\n",
    "        \"\"\"\n",
    "\n",
    "        self.link = ur.urlopen(url)\n",
    "\n",
    "    def get_tables(self):\n",
    "        \"\"\"\n",
    "        Extracts each table on the page and places it in a dictionary.\n",
    "        Converts each dictionary to a Table object. Returns a list of\n",
    "        pointers to the respective Table object(s).\n",
    "        \"\"\"\n",
    "\n",
    "        raw_html = self.link.read()\n",
    "        soup = BeautifulSoup(raw_html, \"html.parser\")\n",
    "        tables = soup.findAll(\"table\")\n",
    "\n",
    "        # have to extract each entry using nested loops\n",
    "        table_list = []\n",
    "        for table in tables:\n",
    "            # empty dictionary each time represents our table\n",
    "            table_dict = {}\n",
    "            rows = table.findAll(\"tr\")\n",
    "            # count will be the key for each list of values\n",
    "            count = 0\n",
    "            for row in rows:\n",
    "                value_list = []\n",
    "                entries = row.findAll(\"td\")\n",
    "                for entry in entries:\n",
    "                    # fix the encoding issues with utf-8\n",
    "                    entry = entry.text.encode(\"utf-8\", \"ignore\")\n",
    "                    strip_unicode = re.compile(\"([^-_a-zA-Z0-9!@#%&=,/'\\\";:~`\\$\\^\\*\\(\\)\\+\\[\\]\\.\\{\\}\\|\\?\\<\\>\\\\]+|[^\\s]+)\")\n",
    "                    entry = strip_unicode.sub(\" \", entry.decode(encoding=\"utf-8\"))\n",
    "                   # print(len(entry))\n",
    "                    value_list.append(entry)\n",
    "                # we don't want empty data packages\n",
    "                if len(value_list) > 0:\n",
    "                    table_dict[count] = value_list\n",
    "                    count += 1\n",
    "\n",
    "            table_obj = Table(table_dict)\n",
    "            #table_obj.show_table()\n",
    "            table_list.append(table_obj)\n",
    "\n",
    "        return table_list\n",
    "\n",
    "    def save_tables(self, tables, ignore_small=False):\n",
    "        \"\"\"\n",
    "        Takes an input a list of table objects and saves each\n",
    "        table to csv format. If ignore_small is True,\n",
    "        we ignore any tables with 5 entries or fewer. \n",
    "        \"\"\"\n",
    "\n",
    "        counter = 1\n",
    "        for table in tables:\n",
    "            if ignore_small:\n",
    "                if table.get_metadata().num_entries > 5:\n",
    "                    name = \"table\" + str(counter)\n",
    "                    table.save_table(name)\n",
    "                    counter += 1\n",
    "            else:\n",
    "                name = \"table\" + str(counter)\n",
    "                table.save_table(name)\n",
    "                counter += 1\n",
    "                \n",
    "                \n",
    "Metadata = namedtuple(\"Metadata\", \"num_cols num_entries\")\n",
    "\n",
    "class Table:\n",
    "\n",
    "    def __init__(self, data):\n",
    "        \"\"\"\n",
    "        Stores a given table as a dictionary. The keys are the headings and the\n",
    "        values are the data, represented as lists.\n",
    "        \"\"\"\n",
    "        self.table_data = data\n",
    "\n",
    "    def get_metadata(self):\n",
    "        \"\"\"\n",
    "        Returns a Metadata object that contains the number of columns\n",
    "        and the total number of entries.\n",
    "        \"\"\"\n",
    "\n",
    "        col_headings = self.table_data.keys()\n",
    "        num_cols = len(col_headings)\n",
    "        num_entries = 0\n",
    "\n",
    "        for heading in col_headings:\n",
    "            num_entries += len(self.table_data[heading])\n",
    "\n",
    "        return Metadata(\n",
    "            num_cols = num_cols,\n",
    "            num_entries = num_entries\n",
    "        )\n",
    "\n",
    "    def show_table(self):\n",
    "        \"\"\"\n",
    "        Prints a formatted table to the command line using pprint\n",
    "        \"\"\"\n",
    "        pprint.pprint(self.table_data, width=1)\n",
    "\n",
    "    def save_table(self, name):\n",
    "        \"\"\"\n",
    "        Saves a table to csv format under the given file name. \n",
    "        File name should omit the extension.\n",
    "        \"\"\"\n",
    "        fname = name + \".csv\"\n",
    "\n",
    "        with open(fname, 'w',encoding='utf8',newline='') as outf:\n",
    "            w = csv.writer(outf, dialect=\"excel\")\n",
    "            li = self.table_data.values()\n",
    "            #print(len(li))\n",
    "            w.writerows(li)\n",
    "# url that contains the tables we want\n",
    "url=\"https://www.sec.gov/Archives/edgar/data/51143/000005114313000007/ibm13q3_10q.htm\"\n",
    "\n",
    "# convert to a page object\n",
    "#page = Page(url)\n",
    "# get the tables\n",
    "#tables = page.get_tables()\n",
    "\n",
    "# save the tables\n",
    "#page.save_tables(tables)\n",
    "\n",
    "# you can change the name that it saves the table to by calling save_table on the table object itself:\n",
    "# don't include the extension in the file name\n",
    "#tables[0].save_table(\"customName\")\n",
    "#url = \"https://www.eia.gov/electricity/monthly/epm_table_grapher.cfm?t=epmt_1_1\"\n",
    "page = Page(url)\n",
    "tables = page.get_tables()\n",
    "page.save_tables(tables, ignore_small=False)\n"
   ]
  },
  {
   "cell_type": "code",
   "execution_count": null,
   "metadata": {
    "collapsed": true
   },
   "outputs": [],
   "source": []
  },
  {
   "cell_type": "code",
   "execution_count": null,
   "metadata": {
    "collapsed": true
   },
   "outputs": [],
   "source": []
  }
 ],
 "metadata": {
  "anaconda-cloud": {},
  "kernelspec": {
   "display_name": "Python [default]",
   "language": "python",
   "name": "python3"
  },
  "language_info": {
   "codemirror_mode": {
    "name": "ipython",
    "version": 3
   },
   "file_extension": ".py",
   "mimetype": "text/x-python",
   "name": "python",
   "nbconvert_exporter": "python",
   "pygments_lexer": "ipython3",
   "version": "3.5.2"
  }
 },
 "nbformat": 4,
 "nbformat_minor": 1
}
