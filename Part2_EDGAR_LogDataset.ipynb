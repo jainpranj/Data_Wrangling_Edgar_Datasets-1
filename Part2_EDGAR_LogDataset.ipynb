{
 "cells": [
  {
   "cell_type": "code",
   "execution_count": null,
   "metadata": {
    "collapsed": false
   },
   "outputs": [],
   "source": [
    "#!/usr/bin/env python\n",
    "def generate_url(year):\n",
    "    \n",
    "    #generate the url for fetching the log files for every month's first day\n",
    "    number_of_months=1\n",
    "    while number_of_months < 13:\n",
    "        if(number_of_months <10):\n",
    "            url=\"http://www.sec.gov/dera/data/PublicEDGAR-log-file-data/\"+year+\"/Qtr1/log\"+year+'%02d' % number_of_months+\"01.zip\"\n",
    "        else:\n",
    "            url=\"http://www.sec.gov/dera/data/PublicEDGAR-log-file-data/\"+year+\"/Qtr1/log\"+year+str(number_of_months)+\"01.zip\"\n",
    "        number_of_months=number_of_months+1\n",
    "    temp_url=download_data(\"http://www.sec.gov/dera/data/Public-EDGAR-log-file-data/2016/Qtr1/log20160101.zip\")\n",
    "    download_data(temp_url)\n",
    "    \n",
    "def download_data(url):\n",
    "    print(\"In download URL function\")\n",
    "    #you need to install request package using $ pip install requests\n",
    "    from io import BytesIO\n",
    "    from zipfile import ZipFile\n",
    "    import urllib.request\n",
    "    import csv\n",
    "    url = urllib.request.urlopen(url)\n",
    "       \n",
    "    with ZipFile(BytesIO(url.read())) as my_zip_file:\n",
    "        for contained_file in my_zip_file.namelist():\n",
    "            print(\"unzipping maybe\")\n",
    "            uncompress_size = sum((file.file_size for file in my_zip_file.infolist()))\n",
    "\n",
    "            extracted_size = 0\n",
    "\n",
    "            for file in my_zip_file.infolist():\n",
    "                extracted_size += file.file_size\n",
    "                print (extracted_size * 100/uncompress_size)\n",
    "                my_zip_file.extract(file)\n",
    "                \n",
    "            # with open((\"unzipped_and_read_\" + contained_file + \".file\"), \"wb\") as output:\n",
    "            \n",
    "            for line in my_zip_file.open(contained_file).readlines():\n",
    "                print(\"reading line one by one started\")\n",
    "                line=[line]\n",
    "                with open('test.csv', 'w', newline='') as fp:\n",
    "                    a = csv.writer(fp, delimiter=',')\n",
    "                    a.writerows(line)\n",
    "            print(\"Done\")\n",
    "\n",
    "    \n",
    "if __name__ == '__main__':\n",
    "    #fetch the year for which the user wants logs\n",
    "    year = input('Enter the year for which you need to fetch the log files: ')\n",
    "    #calling the function to generate dynamic URL\n",
    "    generate_url(year)"
   ]
  },
  {
   "cell_type": "code",
   "execution_count": null,
   "metadata": {
    "collapsed": true
   },
   "outputs": [],
   "source": []
  },
  {
   "cell_type": "code",
   "execution_count": null,
   "metadata": {
    "collapsed": true
   },
   "outputs": [],
   "source": []
  }
 ],
 "metadata": {
  "anaconda-cloud": {},
  "kernelspec": {
   "display_name": "Python [conda root]",
   "language": "python",
   "name": "conda-root-py"
  },
  "language_info": {
   "codemirror_mode": {
    "name": "ipython",
    "version": 3
   },
   "file_extension": ".py",
   "mimetype": "text/x-python",
   "name": "python",
   "nbconvert_exporter": "python",
   "pygments_lexer": "ipython3",
   "version": "3.5.2"
  }
 },
 "nbformat": 4,
 "nbformat_minor": 1
}
